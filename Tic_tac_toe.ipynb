{
  "nbformat": 4,
  "nbformat_minor": 0,
  "metadata": {
    "colab": {
      "name": "Tic-tac-toe.ipynb",
      "provenance": [],
      "collapsed_sections": [],
      "authorship_tag": "ABX9TyMZ1jbe3q7lK9kwgd6nkFEC",
      "include_colab_link": true
    },
    "kernelspec": {
      "name": "python3",
      "display_name": "Python 3"
    },
    "language_info": {
      "name": "python"
    }
  },
  "cells": [
    {
      "cell_type": "markdown",
      "metadata": {
        "id": "view-in-github",
        "colab_type": "text"
      },
      "source": [
        "<a href=\"https://colab.research.google.com/github/lethuthao1368/datacracy-atom--thao-le-/blob/main/Tic_tac_toe.ipynb\" target=\"_parent\"><img src=\"https://colab.research.google.com/assets/colab-badge.svg\" alt=\"Open In Colab\"/></a>"
      ]
    },
    {
      "cell_type": "markdown",
      "metadata": {
        "id": "kCdjtjafVrff"
      },
      "source": [
        "I made this script by following the guideline from a udemy course about Python.\n",
        "Hope that it will not break the rule.\n"
      ]
    },
    {
      "cell_type": "code",
      "metadata": {
        "id": "IaF_m6WpWqQy"
      },
      "source": [
        "# Here are some enhancement compared with the script in the book \"AUTOMATE THE BORING STUFF WITH PYTHON\"\n",
        "# use number instead of using worlds like \"low-M\"\n",
        "# add more functions to finish the game: check win situation, check the space is empty or not\n",
        "# import library IPython.display => clear_output => make it clearer"
      ],
      "execution_count": null,
      "outputs": []
    },
    {
      "cell_type": "code",
      "metadata": {
        "id": "Dni-t6TTTkSf"
      },
      "source": [
        "\n",
        "# first of all, create a new board\n",
        "from IPython.display import clear_output\n",
        "board = list()\n",
        "line = '_'*9\n",
        "def display_board(board,clear):\n",
        "    if clear == 'Y':\n",
        "        clear_output()\n",
        "    print(board[6],'|',board[7],'|',board[8])\n",
        "    print(line)\n",
        "    print(board[3],'|',board[4],'|',board[5])\n",
        "    print(line)\n",
        "    print(board[0],'|',board[1],'|',board[2])\n"
      ],
      "execution_count": null,
      "outputs": []
    },
    {
      "cell_type": "code",
      "metadata": {
        "id": "D98OhIlHT7nY"
      },
      "source": [
        "# test_board = ['22','X','X','X','O','X','O','X','O','X']\n",
        "# clear = 'Y'\n",
        "# display_board(test_board,clear)"
      ],
      "execution_count": null,
      "outputs": []
    },
    {
      "cell_type": "code",
      "metadata": {
        "id": "8jN2tTcwT8bx"
      },
      "source": [
        "def player_input():\n",
        "    player1 = 'choice'\n",
        "    while player1 not in ['X','O']:\n",
        "        player1 = input('Player 1, Chose your team X or O: ')\n",
        "        if player1 not in ['X','O']:\n",
        "            print ('Sorry, please chose your team X or O')\n",
        "    return player1"
      ],
      "execution_count": null,
      "outputs": []
    },
    {
      "cell_type": "code",
      "metadata": {
        "id": "RLESJxQsT_cR"
      },
      "source": [
        "# player_input()"
      ],
      "execution_count": null,
      "outputs": []
    },
    {
      "cell_type": "code",
      "metadata": {
        "id": "wTwrRt9xUB6g"
      },
      "source": [
        "def place_marker(board, marker, position):\n",
        "    board[position-1] = marker\n",
        "    return board"
      ],
      "execution_count": null,
      "outputs": []
    },
    {
      "cell_type": "code",
      "metadata": {
        "id": "I0vSi2AKUCsx"
      },
      "source": [
        "# by using number instead of a word => it will be faster when listing the winning situation\n",
        "wintype = [(1,2,3),(4,5,6),(7,8,9),(1,4,7),(2,5,8),(3,6,9),(1,5,9),(7,5,3)]\n",
        "def win_check(board, mark):\n",
        "    for a,b,c in wintype:\n",
        "        if board[a-1] == board[b-1] == board[c-1] == mark:\n",
        "            return True\n",
        "            print (f'{mark} has won')\n",
        "            break\n",
        "    return False\n"
      ],
      "execution_count": null,
      "outputs": []
    },
    {
      "cell_type": "code",
      "metadata": {
        "id": "JXfm0ZswUFRy"
      },
      "source": [
        "# chose which player go first\n",
        "import random\n",
        "\n",
        "def choose_first():\n",
        "    \n",
        "    if random.randint(1,2) == 1:\n",
        "        player_first = 'X'\n",
        "        print(f'Player {player_first} goes first')\n",
        "    else:\n",
        "        player_first = 'O'\n",
        "        print(f'Player {player_first} goes first')\n",
        "    return player_first\n",
        "    "
      ],
      "execution_count": null,
      "outputs": []
    },
    {
      "cell_type": "code",
      "metadata": {
        "id": "Fv8wJOX1UO9R"
      },
      "source": [
        "# to check whether one space is empty or not\n",
        "def space_check(board, position):\n",
        "    if board[position-1] in ['X','O']:\n",
        "        \n",
        "        return False\n",
        "    else:\n",
        "        return True\n",
        "  "
      ],
      "execution_count": null,
      "outputs": []
    },
    {
      "cell_type": "code",
      "metadata": {
        "colab": {
          "base_uri": "https://localhost:8080/"
        },
        "id": "20PVpQE2UTlS",
        "outputId": "c0a44d5d-ff47-45a6-c576-7d01957cda2d"
      },
      "source": [
        "board = [' ',' ',' ',' ',' ',' ',' ',' ',' ']\n",
        "space_check(board,0)"
      ],
      "execution_count": null,
      "outputs": [
        {
          "output_type": "execute_result",
          "data": {
            "text/plain": [
              "True"
            ]
          },
          "metadata": {
            "tags": []
          },
          "execution_count": 30
        }
      ]
    },
    {
      "cell_type": "code",
      "metadata": {
        "id": "qACSXmcEUVQx"
      },
      "source": [
        "# this is for the last steps when checking draw situation - full board\n",
        "def full_board_check(board):\n",
        "    for i in range(0,9):\n",
        "        if board[i] not in ['X','O']:\n",
        "            return False\n",
        "    return True\n"
      ],
      "execution_count": null,
      "outputs": []
    },
    {
      "cell_type": "code",
      "metadata": {
        "id": "1SyhzlOKUXEi"
      },
      "source": [
        "# player to chose the cell, make sure it is a number\n",
        "def player_choice(board):\n",
        "    position = 0\n",
        "    while position not in [1,2,3,4,5,6,7,8,9] or space_check(board,position) is False or position == 0:\n",
        "        position = int(input('Please enter your move form 1-9: '))\n",
        "    return position\n",
        "       \n",
        "\n",
        "    "
      ],
      "execution_count": null,
      "outputs": []
    },
    {
      "cell_type": "code",
      "metadata": {
        "colab": {
          "base_uri": "https://localhost:8080/"
        },
        "id": "IEccmUR2UZXh",
        "outputId": "846d7fc6-951e-492c-9680-142db97ded86"
      },
      "source": [
        "position = 'begin'\n",
        "position.isdigit()"
      ],
      "execution_count": null,
      "outputs": [
        {
          "output_type": "execute_result",
          "data": {
            "text/plain": [
              "False"
            ]
          },
          "metadata": {
            "tags": []
          },
          "execution_count": 33
        }
      ]
    },
    {
      "cell_type": "code",
      "metadata": {
        "id": "qIZVgV4QUbAB"
      },
      "source": [
        "# added function: to play again the game, but make sure enter the correct character\n",
        "def replay():\n",
        "    replay_choice = 'choice'\n",
        "    while replay_choice not in ['Y','N']:\n",
        "        replay_choice = input('Do you want to play again? Y or N ')\n",
        "        if replay_choice not in ['Y','N']:\n",
        "            print('Sorry, please enter Y or N')\n",
        "    if replay_choice == 'Y':\n",
        "        return True\n",
        "    else:\n",
        "        return False\n"
      ],
      "execution_count": null,
      "outputs": []
    },
    {
      "cell_type": "code",
      "metadata": {
        "colab": {
          "base_uri": "https://localhost:8080/"
        },
        "id": "_iHAGJ5RUdsS",
        "outputId": "1ecd3900-57f4-4d54-9859-0713c4455c58"
      },
      "source": [
        "# ok let's play\n",
        "print('Welcome to Tic Tac Toe!')\n",
        "game_on = True\n",
        "\n",
        "while game_on:\n",
        "    # set-up things\n",
        "    board = [' ',' ',' ',' ',' ',' ',' ',' ',' ']\n",
        "    clear = 'N'\n",
        "    display_board(board,clear)\n",
        "    player1 = player_input()\n",
        "    print(f'Player 1 is {player1}')\n",
        "    \n",
        "    # chose the player to go first\n",
        "    player_first = choose_first()\n",
        "#     game_on = False\n",
        "\n",
        "    while game_on:\n",
        "        clear = 'Y'\n",
        "        print(f'Player {player_first}')\n",
        "        position = player_choice(board)\n",
        "        place_marker(board,player_first,position)\n",
        "        display_board(board,clear)\n",
        "        \n",
        "        if win_check(board,player_first):\n",
        "            game_on = False\n",
        "            print (f'The player {player_first} has won')\n",
        "            break\n",
        "        if full_board_check(board) is True:\n",
        "            game_on = False\n",
        "            print('The board is full - Draw')\n",
        "        # rotate player\n",
        "        if player_first == 'X':\n",
        "            player_first = 'O'\n",
        "        else:\n",
        "            player_first = 'X'\n",
        "    if replay():\n",
        "        game_on = True\n",
        "    else:\n",
        "        print ('The end')\n"
      ],
      "execution_count": null,
      "outputs": [
        {
          "output_type": "stream",
          "text": [
            "O | X | X\n",
            "_________\n",
            "X | X | O\n",
            "_________\n",
            "X | O | O\n",
            "The player X has won\n",
            "Do you want to play again? Y or N n\n",
            "Sorry, please enter Y or N\n",
            "Do you want to play again? Y or N N\n",
            "The end\n"
          ],
          "name": "stdout"
        }
      ]
    }
  ]
}